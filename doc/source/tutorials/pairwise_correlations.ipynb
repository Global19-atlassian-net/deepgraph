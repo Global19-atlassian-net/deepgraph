{
 "cells": [
  {
   "cell_type": "raw",
   "metadata": {
    "raw_mimetype": "text/restructuredtext"
   },
   "source": [
    ".. _tutorial_pairwise_correlations:"
   ]
  },
  {
   "cell_type": "markdown",
   "metadata": {},
   "source": [
    "# Computing Very Large Correlation Matrices in Parallel"
   ]
  },
  {
   "cell_type": "raw",
   "metadata": {
    "raw_mimetype": "text/restructuredtext"
   },
   "source": [
    "[:download:`ipython notebook <pairwise_correlations.ipynb>`] [:download:`python script <pairwise_correlations.py>`]"
   ]
  },
  {
   "cell_type": "raw",
   "metadata": {
    "raw_mimetype": "text/restructuredtext"
   },
   "source": [
    "In this short tutorial, we'll demonstrate how DeepGraph can be used to efficiently compute very large correlation matrices in parallel, with full control over RAM usage.\n",
    "\n",
    "Assume you have a set of ``n_samples`` samples, each comprised of ``n_features`` features and you want to compute the `Pearson correlation coefficients <https://en.wikipedia.org/wiki/Pearson_correlation_coefficient>`_ between all pairs of features (for the `Spearman's rank correlation coefficients <https://en.wikipedia.org/wiki/Spearman's_rank_correlation_coefficient>`_, see the *Note*-box below). If your data is small enough, you may use `scipy.stats.pearsonr <https://docs.scipy.org/doc/scipy/reference/generated/scipy.stats.pearsonr.html#scipy.stats.pearsonr>`_ or `numpy.corrcoef <https://docs.scipy.org/doc/numpy/reference/generated/numpy.corrcoef.html>`_, but for large data, neither of these methods is feasible. Scipy's pearsonr  would be very slow, since you'd have to compute pair-wise correlations in a double loop, and numpy's corrcoef would most likely blow your RAM.\n",
    "\n",
    "Using DeepGraph's :py:meth:`create_edges <.create_edges>` method, you can compute all pair-wise correlations efficiently. In this tutorial, the data is stored on disc and only the relevant subset of features for each iteration will be loaded into memory by the computing nodes. Parallelization is achieved by using python's standard library `multiprocessing <https://docs.python.org/3.6/library/multiprocessing.html>`_, but it should be straight-forward to modify the code to accommodate other parallelization libraries. It should also be straight-forward to modify the code in order to compute other correlation/distance/similarity-measures between a set of features. \n",
    "\n",
    "First of all, we need to import some packages"
   ]
  },
  {
   "cell_type": "code",
   "execution_count": 1,
   "metadata": {},
   "outputs": [],
   "source": [
    "# data i/o\n",
    "import os\n",
    "\n",
    "# compute in parallel\n",
    "from multiprocessing import Pool\n",
    "\n",
    "# the usual\n",
    "import numpy as np\n",
    "import pandas as pd\n",
    "\n",
    "import deepgraph as dg\n"
   ]
  },
  {
   "cell_type": "markdown",
   "metadata": {},
   "source": [
    "Let's create a set of variables and store it as a 2d-matrix ``X`` (``shape=(n_features, n_samples)``) on disc. To speed up the computation of the correlation coefficients later on, we whiten each variable."
   ]
  },
  {
   "cell_type": "code",
   "execution_count": 2,
   "metadata": {},
   "outputs": [],
   "source": [
    "# create observations\n",
    "from numpy.random import RandomState\n",
    "prng = RandomState(0)\n",
    "n_features = int(5e3)\n",
    "n_samples = int(1e2)\n",
    "X = prng.randint(100, size=(n_features, n_samples)).astype(np.float64)\n",
    "\n",
    "# uncomment the next line to compute ranked variables for Spearman's correlation coefficients\n",
    "# X = X.argsort(axis=1).argsort(axis=1)\n",
    "\n",
    "# whiten variables for fast parallel computation later on\n",
    "X = (X - X.mean(axis=1, keepdims=True)) / X.std(axis=1, keepdims=True)\n",
    "\n",
    "# save in binary format\n",
    "np.save('samples', X)\n"
   ]
  },
  {
   "cell_type": "raw",
   "metadata": {
    "raw_mimetype": "text/restructuredtext"
   },
   "source": [
    ".. note:: \n",
    "    On the computation of the `Spearman's rank correlation coefficients <https://en.wikipedia.org/wiki/Spearman's_rank_correlation_coefficient>`_: Since the Spearman correlation coefficient is defined as the Pearson correlation coefficient between the ranked variables, it suffices to uncomment the indicated line in the above code-block in order to compute the Spearman's rank correlation coefficients in the following. "
   ]
  },
  {
   "cell_type": "raw",
   "metadata": {
    "raw_mimetype": "text/restructuredtext"
   },
   "source": [
    "Now we can compute the pair-wise correlations using DeepGraph's :py:meth:`create_edges <.create_edges>` method. Note that the node table :py:attr:`v <.DeepGraph.v>` only stores references to the mem-mapped array containing the samples. "
   ]
  },
  {
   "cell_type": "code",
   "execution_count": 3,
   "metadata": {},
   "outputs": [],
   "source": [
    "# parameters (change these to control RAM usage)\n",
    "step_size = 1e5\n",
    "n_processes = 100\n",
    "\n",
    "# load samples as memory-map\n",
    "X = np.load('samples.npy', mmap_mode='r')\n",
    "\n",
    "# create node table that stores references to the mem-mapped samples\n",
    "v = pd.DataFrame({'index': range(X.shape[0])})\n",
    "\n",
    "# connector function to compute pairwise pearson correlations\n",
    "def corr(index_s, index_t):\n",
    "    features_s = X[index_s]\n",
    "    features_t = X[index_t]\n",
    "    corr = np.einsum('ij,ij->i', features_s, features_t) / n_samples\n",
    "    return corr\n",
    "\n",
    "# index array for parallelization\n",
    "pos_array = np.array(np.linspace(0, n_features*(n_features-1)//2, n_processes), dtype=int)\n",
    "\n",
    "# parallel computation\n",
    "def create_ei(i):\n",
    "\n",
    "    from_pos = pos_array[i]\n",
    "    to_pos = pos_array[i+1]\n",
    "\n",
    "    # initiate DeepGraph\n",
    "    g = dg.DeepGraph(v)\n",
    "\n",
    "    # create edges\n",
    "    g.create_edges(connectors=corr, step_size=step_size, \n",
    "                   from_pos=from_pos, to_pos=to_pos)\n",
    "\n",
    "    # store edge table\n",
    "    g.e.to_pickle('tmp/correlations/{}.pickle'.format(str(i).zfill(3)))\n",
    "\n",
    "# computation\n",
    "if __name__ == '__main__':\n",
    "    os.makedirs(\"tmp/correlations\", exist_ok=True)\n",
    "    indices = np.arange(0, n_processes - 1)\n",
    "    p = Pool()\n",
    "    for _ in p.imap_unordered(create_ei, indices):\n",
    "        pass\n",
    "    "
   ]
  },
  {
   "cell_type": "markdown",
   "metadata": {},
   "source": [
    "Let's collect the computed correlation values and store them in an hdf file."
   ]
  },
  {
   "cell_type": "code",
   "execution_count": 4,
   "metadata": {},
   "outputs": [],
   "source": [
    "# store correlation values\n",
    "files = os.listdir('tmp/correlations/')\n",
    "files.sort()\n",
    "store = pd.HDFStore('e.h5', mode='w')\n",
    "for f in files:\n",
    "    et = pd.read_pickle('tmp/correlations/{}'.format(f))\n",
    "    store.append('e', et, format='t', data_columns=True, index=False)\n",
    "store.close()\n"
   ]
  },
  {
   "cell_type": "markdown",
   "metadata": {},
   "source": [
    "Let's have a quick look at the correlations."
   ]
  },
  {
   "cell_type": "code",
   "execution_count": 5,
   "metadata": {},
   "outputs": [
    {
     "name": "stdout",
     "output_type": "stream",
     "text": [
      "               corr\n",
      "s    t             \n",
      "0    1    -0.006066\n",
      "     2     0.094063\n",
      "     3    -0.025529\n",
      "     4     0.074080\n",
      "     5     0.035490\n",
      "     6     0.005221\n",
      "     7     0.032064\n",
      "     8     0.000378\n",
      "     9    -0.049318\n",
      "     10   -0.084853\n",
      "     11    0.026407\n",
      "     12    0.028543\n",
      "     13   -0.013347\n",
      "     14   -0.180113\n",
      "     15    0.151164\n",
      "     16   -0.094398\n",
      "     17   -0.124582\n",
      "     18   -0.000781\n",
      "     19   -0.044138\n",
      "     20   -0.193609\n",
      "     21    0.003877\n",
      "     22    0.048305\n",
      "     23    0.006477\n",
      "     24   -0.021291\n",
      "     25   -0.070756\n",
      "     26   -0.014906\n",
      "     27   -0.197605\n",
      "     28   -0.103509\n",
      "     29    0.071503\n",
      "     30    0.120718\n",
      "...             ...\n",
      "4991 4998 -0.012007\n",
      "     4999 -0.252836\n",
      "4992 4993  0.202024\n",
      "     4994 -0.046088\n",
      "     4995 -0.028314\n",
      "     4996 -0.052319\n",
      "     4997 -0.010797\n",
      "     4998 -0.025321\n",
      "     4999 -0.093721\n",
      "4993 4994 -0.027568\n",
      "     4995  0.045602\n",
      "     4996 -0.102075\n",
      "     4997  0.035370\n",
      "     4998 -0.069946\n",
      "     4999 -0.031208\n",
      "4994 4995  0.108063\n",
      "     4996  0.144441\n",
      "     4997  0.078353\n",
      "     4998 -0.024799\n",
      "     4999 -0.026432\n",
      "4995 4996 -0.019991\n",
      "     4997 -0.178458\n",
      "     4998 -0.162406\n",
      "     4999  0.102835\n",
      "4996 4997  0.115812\n",
      "     4998 -0.061167\n",
      "     4999  0.018606\n",
      "4997 4998 -0.151932\n",
      "     4999 -0.271358\n",
      "4998 4999  0.106453\n",
      "\n",
      "[12497500 rows x 1 columns]\n"
     ]
    }
   ],
   "source": [
    "# load correlation table\n",
    "e = pd.read_hdf('e.h5')\n",
    "print(e)"
   ]
  },
  {
   "cell_type": "markdown",
   "metadata": {},
   "source": [
    "And finally, let's see where most of the computation time is spent."
   ]
  },
  {
   "cell_type": "code",
   "execution_count": 6,
   "metadata": {},
   "outputs": [
    {
     "name": "stdout",
     "output_type": "stream",
     "text": [
      " "
     ]
    }
   ],
   "source": [
    "g = dg.DeepGraph(v)\n",
    "p = %prun -r g.create_edges(connectors=corr, step_size=step_size)"
   ]
  },
  {
   "cell_type": "code",
   "execution_count": 7,
   "metadata": {},
   "outputs": [
    {
     "name": "stdout",
     "output_type": "stream",
     "text": [
      "         244867 function calls (239629 primitive calls) in 14.193 seconds\n",
      "\n",
      "   Ordered by: internal time\n",
      "   List reduced from 541 to 20 due to restriction <20>\n",
      "\n",
      "   ncalls  tottime  percall  cumtime  percall filename:lineno(function)\n",
      "      250    9.355    0.037    9.361    0.037 memmap.py:334(__getitem__)\n",
      "      125    1.584    0.013    1.584    0.013 {built-in method numpy.core.multiarray.c_einsum}\n",
      "      125    1.012    0.008   12.013    0.096 deepgraph.py:4558(map)\n",
      "        2    0.581    0.290    0.581    0.290 {method 'get_labels' of 'pandas._libs.hashtable.Int64HashTable' objects}\n",
      "        1    0.301    0.301    0.414    0.414 multi.py:795(_engine)\n",
      "        5    0.157    0.031    0.157    0.031 {built-in method numpy.core.multiarray.concatenate}\n",
      "      250    0.157    0.001    0.170    0.001 internals.py:5017(_stack_arrays)\n",
      "        2    0.105    0.053    0.105    0.053 {pandas._libs.algos.take_1d_int64_int64}\n",
      "      889    0.094    0.000    0.094    0.000 {method 'reduce' of 'numpy.ufunc' objects}\n",
      "      125    0.089    0.001   12.489    0.100 deepgraph.py:5294(_select_and_return)\n",
      "      125    0.074    0.001    0.074    0.001 {deepgraph._triu_indices._reduce_triu_indices}\n",
      "      125    0.066    0.001    0.066    0.001 {built-in method deepgraph._triu_indices._triu_indices}\n",
      "        4    0.038    0.009    0.038    0.009 {built-in method pandas._libs.algos.ensure_int16}\n",
      "      125    0.033    0.000   10.979    0.088 <ipython-input-3-26c4f59cd911>:12(corr)\n",
      "        2    0.028    0.014    0.028    0.014 function_base.py:4703(delete)\n",
      "        1    0.027    0.027   14.163   14.163 deepgraph.py:4788(_matrix_iterator)\n",
      "        1    0.027    0.027    0.113    0.113 multi.py:56(_codes_to_ints)\n",
      "45771/45222    0.020    0.000    0.043    0.000 {built-in method builtins.isinstance}\n",
      "        1    0.019    0.019   14.193   14.193 deepgraph.py:183(create_edges)\n",
      "        2    0.012    0.006    0.700    0.350 algorithms.py:576(factorize)\n",
      "\n",
      "\n"
     ]
    },
    {
     "data": {
      "text/plain": [
       "<pstats.Stats at 0x7f814fb2bd68>"
      ]
     },
     "execution_count": 7,
     "metadata": {},
     "output_type": "execute_result"
    }
   ],
   "source": [
    "p.print_stats(20)"
   ]
  },
  {
   "cell_type": "markdown",
   "metadata": {},
   "source": [
    "As you can see, most of the time is spent by getting the requested features in the corr-function, followed by computing the correlation values themselves. "
   ]
  }
 ],
 "metadata": {
  "celltoolbar": "Raw Cell Format",
  "kernelspec": {
   "display_name": "Python 3",
   "language": "python",
   "name": "python3"
  },
  "language_info": {
   "codemirror_mode": {
    "name": "ipython",
    "version": 3
   },
   "file_extension": ".py",
   "mimetype": "text/x-python",
   "name": "python",
   "nbconvert_exporter": "python",
   "pygments_lexer": "ipython3",
   "version": "3.6.5"
  }
 },
 "nbformat": 4,
 "nbformat_minor": 2
}
